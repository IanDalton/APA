{
 "cells": [
  {
   "cell_type": "markdown",
   "metadata": {},
   "source": [
    "## Imports"
   ]
  },
  {
   "cell_type": "code",
   "execution_count": 305,
   "metadata": {},
   "outputs": [],
   "source": [
    "from sklearn.pipeline import Pipeline\n",
    "import pandas as pd\n",
    "import numpy as np\n",
    "from sklearn.model_selection import train_test_split\n",
    "\n",
    "from sklearn.base import BaseEstimator, TransformerMixin\n",
    "\n",
    "from feature_engine.imputation import AddMissingIndicator, CategoricalImputer, MeanMedianImputer\n",
    "from feature_engine.encoding import OneHotEncoder,CountFrequencyEncoder,OrdinalEncoder\n",
    "from sklearn.preprocessing import FunctionTransformer,LabelEncoder,label_binarize\n",
    "\n",
    "from sklearn.metrics import (accuracy_score, roc_auc_score,explained_variance_score,mean_squared_error,r2_score,average_precision_score, classification_report, roc_curve, auc, confusion_matrix, \n",
    "                     precision_recall_fscore_support,make_scorer, f1_score,precision_score,recall_score, ConfusionMatrixDisplay)\n",
    "from sklearn.model_selection import GridSearchCV,KFold, cross_val_score\n",
    "from scikitplot.metrics import plot_roc, plot_confusion_matrix, plot_precision_recall,plot_roc_curve\n",
    "\n",
    "from sklearn.preprocessing import LabelEncoder\n",
    "from sklearn.linear_model import Lasso, LinearRegression, Ridge\n",
    "from sklearn.tree import DecisionTreeClassifier\n",
    "from sklearn.ensemble import RandomForestClassifier, AdaBoostClassifier, ExtraTreesClassifier, BaggingClassifier\n",
    "from sklearn.neighbors import KNeighborsClassifier\n",
    "from sklearn.svm import SVC\n",
    "from xgboost import XGBClassifier\n",
    "#from catboost import CatBoostClassifier\n",
    "#from lightgbm import LGBMClassifier\n",
    "\n",
    "import matplotlib.pyplot as plt\n",
    "import seaborn as sns"
   ]
  },
  {
   "cell_type": "code",
   "execution_count": 306,
   "metadata": {},
   "outputs": [],
   "source": [
    "df = pd.read_csv('data.csv')\n"
   ]
  },
  {
   "cell_type": "markdown",
   "metadata": {},
   "source": [
    "## Pipelines\n",
    "Se crean variables para unificar y entrenar el modelo a ver si es cancer o no."
   ]
  },
  {
   "cell_type": "code",
   "execution_count": 307,
   "metadata": {},
   "outputs": [],
   "source": [
    "df[\"is_cancer\"] = df[\"diagnostic\"].apply(lambda x: 1 if x in [\"BCC\",\"MEL\",\"SCC\"] else 0)"
   ]
  },
  {
   "cell_type": "code",
   "execution_count": 308,
   "metadata": {},
   "outputs": [
    {
     "data": {
      "text/plain": [
       "Index(['patient_id', 'lesion_id', 'smoke', 'drink', 'background_father',\n",
       "       'background_mother', 'age', 'pesticide', 'gender',\n",
       "       'skin_cancer_history', 'cancer_history', 'has_piped_water',\n",
       "       'has_sewage_system', 'fitspatrick', 'region', 'diameter_1',\n",
       "       'diameter_2', 'diagnostic', 'itch', 'grew', 'hurt', 'changed', 'bleed',\n",
       "       'elevation', 'img_id', 'biopsed', 'is_cancer'],\n",
       "      dtype='object')"
      ]
     },
     "execution_count": 308,
     "metadata": {},
     "output_type": "execute_result"
    }
   ],
   "source": [
    "df.columns"
   ]
  },
  {
   "cell_type": "code",
   "execution_count": 309,
   "metadata": {},
   "outputs": [],
   "source": [
    "# la persona estuvo aca antes? Tuvo en esta parte del cuerpo antes? Que tuvo antes? -> me parece que va a overfitear con eso\n",
    "\n",
    "\n",
    "x1 = df.drop(columns=[\"is_cancer\", \"diagnostic\"]) \n",
    "y1 = df[\"is_cancer\"]\n",
    "\n",
    "class HadBeforeTransformer(BaseEstimator, TransformerMixin):\n",
    "    def __init__(self) -> None:\n",
    "        super().__init__()\n",
    "\n",
    "    def fit(self, x:pd.DataFrame, y):\n",
    "        self.patient_counts = x[\"patient_id\"].value_counts()\n",
    "        #x[\"had_here_before\"] = x[\"patient_id\"].apply(lambda x: self.patient_counts[x] -1  )\n",
    "        return self\n",
    "    def transform(self, x:pd.DataFrame):\n",
    "        new_counts = x[\"patient_id\"].value_counts()\n",
    "\n",
    "        x[\"had_here_before\"] = x[\"patient_id\"].apply(lambda x: self.patient_counts.get(x,0)+ new_counts[x] -1   )\n",
    "        return x\n",
    "    \n",
    "class HadThisPartBeforeTransformer(BaseEstimator, TransformerMixin):\n",
    "    def __init__(self) -> None:\n",
    "        super().__init__()\n",
    "\n",
    "    def fit(self, x:pd.DataFrame, y):\n",
    "        self.patient_region_counts = x.groupby([\"patient_id\", \"region\"]).size().unstack(fill_value=0).T.to_dict('dict')\n",
    "        return self\n",
    "    def transform(self, x:pd.DataFrame):\n",
    "        new_counts = x.groupby([\"patient_id\", \"region\"]).size().unstack(fill_value=0).T.to_dict('dict')\n",
    "        x[\"had_this_part_before\"] = x.apply(lambda row: 1 if  new_counts[row[\"patient_id\"]][row[\"region\"]] + self.patient_region_counts.get(row[\"patient_id\"],{}).get(row[\"region\"],0)>=2 else 0, axis=1)\n",
    "        return x\n",
    "    \n",
    "\n",
    "\n",
    "class NormalDistributionImputer(BaseEstimator, TransformerMixin):\n",
    "    def __init__(self, variables=None):\n",
    "        if not isinstance(variables, list):\n",
    "            self.variables = [variables]\n",
    "        else:\n",
    "            self.variables = variables\n",
    "\n",
    "    def fit(self, X, y=None):\n",
    "        # we will store the mean and std of the variables for prediction time\n",
    "        self.param_dict_ = {}\n",
    "        for var in self.variables:\n",
    "            self.param_dict_[var] = {'mean': X[var].mean(), 'std': X[var].std()}\n",
    "        return self\n",
    "\n",
    "    def transform(self, X):\n",
    "        X = X.copy()\n",
    "        for feature in self.variables:\n",
    "            mu, std = self.param_dict_[feature]['mean'], self.param_dict_[feature]['std']\n",
    "            X[feature] = X[feature].apply(lambda x: np.random.normal(loc=mu, scale=std) if pd.isnull(x) else x)\n",
    "        return X\n",
    "\n",
    "\n",
    "preguntas = Pipeline([\n",
    "    ( \"had_here_before\", HadBeforeTransformer()),\n",
    "    ( \"had_this_part_before\", HadThisPartBeforeTransformer()),\n",
    "\n",
    "])\n",
    "\n",
    "limpieza = Pipeline([\n",
    "    (\"dropear\", FunctionTransformer(lambda x: x.drop([\"img_id\",\"lesion_id\", \"patient_id\"], axis=1,))),\n",
    "                     (\"frequency\", CountFrequencyEncoder(encoding_method='frequency',variables=[\"region\"])),\n",
    "                     (\"missingIndicator\",  AddMissingIndicator(variables=[\"smoke\",\"drink\",\"background_father\",\n",
    "                                                           \"background_mother\",\"pesticide\",\"gender\",\"skin_cancer_history\",\n",
    "                                                            \"cancer_history\", \"has_piped_water\",\"has_sewage_system\",\n",
    "                                                            \"itch\",\"grew\",\"hurt\",\"changed\",\"bleed\",\"elevation\",\"fitspatrick\",\"diameter_1\",\"diameter_2\",\"age\"])),\n",
    "                     (\"fillNaNs\", CategoricalImputer(imputation_method=\"missing\", variables=[\"smoke\",\"drink\",\"background_father\",\n",
    "                                                           \"background_mother\",\"pesticide\",\"gender\",\"skin_cancer_history\",\n",
    "                                                            \"cancer_history\", \"has_piped_water\",\"has_sewage_system\",\n",
    "                                                            \"itch\",\"grew\",\"hurt\",\"changed\",\"bleed\",\"elevation\"])),\n",
    "                     (\"ordinal\", OrdinalEncoder(encoding_method=\"arbitrary\", variables=[\"smoke\",\"drink\",\"background_father\",\n",
    "                                                           \"background_mother\",\"pesticide\",\"gender\",\"skin_cancer_history\",\n",
    "                                                            \"cancer_history\", \"has_piped_water\",\"has_sewage_system\",\n",
    "                                                            \"itch\",\"grew\",\"hurt\",\"changed\",\"bleed\",\"elevation\"]))\n",
    "                    ])\n",
    "imputing = Pipeline([(\"imputar_numericas\",NormalDistributionImputer(  variables= [\"fitspatrick\",\"diameter_1\",\"diameter_2\",\"age\"]))])\n",
    "\n",
    "\n",
    "\n",
    "pipe = Pipeline([(\"preguntas\",preguntas), (\"limpieza\",limpieza), (\"imputing\",imputing)])\n"
   ]
  },
  {
   "cell_type": "code",
   "execution_count": 310,
   "metadata": {},
   "outputs": [
    {
     "name": "stdout",
     "output_type": "stream",
     "text": [
      "<class 'pandas.core.frame.DataFrame'>\n",
      "RangeIndex: 2298 entries, 0 to 2297\n",
      "Data columns (total 25 columns):\n",
      " #   Column               Non-Null Count  Dtype  \n",
      "---  ------               --------------  -----  \n",
      " 0   patient_id           2298 non-null   object \n",
      " 1   lesion_id            2298 non-null   int64  \n",
      " 2   smoke                1494 non-null   object \n",
      " 3   drink                1494 non-null   object \n",
      " 4   background_father    1480 non-null   object \n",
      " 5   background_mother    1476 non-null   object \n",
      " 6   age                  2298 non-null   int64  \n",
      " 7   pesticide            1494 non-null   object \n",
      " 8   gender               1494 non-null   object \n",
      " 9   skin_cancer_history  1494 non-null   object \n",
      " 10  cancer_history       1494 non-null   object \n",
      " 11  has_piped_water      1494 non-null   object \n",
      " 12  has_sewage_system    1494 non-null   object \n",
      " 13  fitspatrick          1494 non-null   float64\n",
      " 14  region               2298 non-null   object \n",
      " 15  diameter_1           1494 non-null   float64\n",
      " 16  diameter_2           1494 non-null   float64\n",
      " 17  itch                 2298 non-null   object \n",
      " 18  grew                 2298 non-null   object \n",
      " 19  hurt                 2298 non-null   object \n",
      " 20  changed              2298 non-null   object \n",
      " 21  bleed                2298 non-null   object \n",
      " 22  elevation            2298 non-null   object \n",
      " 23  img_id               2298 non-null   object \n",
      " 24  biopsed              2298 non-null   bool   \n",
      "dtypes: bool(1), float64(3), int64(2), object(19)\n",
      "memory usage: 433.2+ KB\n"
     ]
    }
   ],
   "source": [
    "x1.info()"
   ]
  },
  {
   "cell_type": "code",
   "execution_count": 311,
   "metadata": {},
   "outputs": [
    {
     "name": "stderr",
     "output_type": "stream",
     "text": [
      "c:\\Users\\ianda\\anaconda3\\envs\\itba_apa_env\\lib\\site-packages\\feature_engine\\encoding\\base_encoder.py:257: UserWarning: During the encoding, NaN values were introduced in the feature(s) background_mother.\n",
      "  warnings.warn(\n"
     ]
    }
   ],
   "source": [
    "\n",
    "x1,x1_test,y1,y1_test = train_test_split(x1,y1, test_size=0.2, random_state=42)\n",
    "pipe.fit(x1,y1)\n",
    "x1 = pipe.transform(x1)\n",
    "x1_test = pipe.transform(x1_test)"
   ]
  },
  {
   "cell_type": "code",
   "execution_count": 312,
   "metadata": {},
   "outputs": [],
   "source": [
    "label_encoder = LabelEncoder()\n",
    "y1 = label_encoder.fit_transform(y1)\n",
    "y1_test= label_encoder.transform(y1_test)"
   ]
  },
  {
   "cell_type": "markdown",
   "metadata": {},
   "source": [
    "## Modelos"
   ]
  },
  {
   "cell_type": "code",
   "execution_count": 313,
   "metadata": {},
   "outputs": [
    {
     "data": {
      "text/plain": [
       "0.9347826086956522"
      ]
     },
     "execution_count": 313,
     "metadata": {},
     "output_type": "execute_result"
    }
   ],
   "source": [
    "ratio = float(np.sum(y1 == 0))*100 / np.sum(y1 == 1)\n",
    "\n",
    "xgb = XGBClassifier(scale_pos_weight=ratio)\n",
    "xgb.fit(x1,y1)\n",
    "y1_pred = xgb.predict(x1_test)\n",
    "\n",
    "xgb.score(x1_test,y1_test)\n"
   ]
  },
  {
   "cell_type": "code",
   "execution_count": 208,
   "metadata": {},
   "outputs": [
    {
     "data": {
      "text/plain": [
       "True"
      ]
     },
     "execution_count": 208,
     "metadata": {},
     "output_type": "execute_result"
    }
   ],
   "source": [
    "eval(\"TRUE\".title())"
   ]
  },
  {
   "cell_type": "code",
   "execution_count": 314,
   "metadata": {},
   "outputs": [
    {
     "data": {
      "text/plain": [
       "<Axes: title={'center': 'Confusion Matrix'}, xlabel='Predicted label', ylabel='True label'>"
      ]
     },
     "execution_count": 314,
     "metadata": {},
     "output_type": "execute_result"
    },
    {
     "data": {
      "image/png": "[encoded data removed]",
      "text/plain": [
       "<Figure size 640x480 with 2 Axes>"
      ]
     },
     "metadata": {},
     "output_type": "display_data"
    }
   ],
   "source": [
    "#Confusion matrix\n",
    "plot_confusion_matrix(y1_test, y1_pred, normalize=False)"
   ]
  },
  {
   "cell_type": "code",
   "execution_count": 230,
   "metadata": {},
   "outputs": [
    {
     "name": "stderr",
     "output_type": "stream",
     "text": [
      "c:\\Users\\ianda\\anaconda3\\envs\\itba_apa_env\\lib\\site-packages\\feature_engine\\encoding\\base_encoder.py:257: UserWarning: During the encoding, NaN values were introduced in the feature(s) background_father, background_mother.\n",
      "  warnings.warn(\n",
      "c:\\Users\\ianda\\anaconda3\\envs\\itba_apa_env\\lib\\site-packages\\feature_engine\\encoding\\base_encoder.py:257: UserWarning: During the encoding, NaN values were introduced in the feature(s) background_father, background_mother.\n",
      "  warnings.warn(\n",
      "c:\\Users\\ianda\\anaconda3\\envs\\itba_apa_env\\lib\\site-packages\\feature_engine\\encoding\\base_encoder.py:257: UserWarning: During the encoding, NaN values were introduced in the feature(s) background_father, background_mother.\n",
      "  warnings.warn(\n"
     ]
    }
   ],
   "source": [
    "pipe = Pipeline([\n",
    "    (\"dropear\", FunctionTransformer(lambda x: x.drop([\"img_id\",\"patient_id\",\"lesion_id\"], axis=1, errors='ignore'))),\n",
    "    (\"indicador_NAs\",AddMissingIndicator(missing_only= True,variables = [\"has_sewage_system\",\"fitspatrick\",\"diameter_1\",\"diameter_2\",\"skin_cancer_history\",\"cancer_history\",\"has_piped_water\",\"background_father\",\"background_mother\",\"pesticide\",\"smoke\",\"drink\"])),\n",
    "    (\"missing_categoricas\",CategoricalImputer(variables = [\"has_sewage_system\",\"region\",\"gender\"])),\n",
    "    (\"encoding_onehot\",OneHotEncoder(variables = [\"region\",\"gender\"])),\n",
    "    (\"frequency_encoder\", CountFrequencyEncoder(encoding_method='frequency',missing_values='ignore', variables=[\"background_father\",\"background_mother\"])),\n",
    "    (\"NaN_father\",FunctionTransformer(lambda x: x.assign(background_father = x['background_father'].fillna(0)))),\n",
    "    (\"NaN_mother\",FunctionTransformer(lambda x: x.assign(background_mother = x['background_mother'].fillna(0)))),\n",
    "    (\"tf_itch\", FunctionTransformer(lambda x: x.assign(itch = x['itch'].apply(lambda x: 1 if x==\"TRUE\" else 0)))),\n",
    "    (\"tf_grew\", FunctionTransformer(lambda x: x.assign(grew = x['grew'].apply(lambda x: 1 if x==\"TRUE\" else 0)))),\n",
    "    (\"tf_hurt\", FunctionTransformer(lambda x: x.assign(hurt = x['hurt'].apply(lambda x: 1 if x==\"TRUE\" else 0)))),\n",
    "    (\"tf_changed\", FunctionTransformer(lambda x: x.assign(changed = x['changed'].apply(lambda x: 1 if x==\"TRUE\" else 0)))),\n",
    "    (\"tf_bleed\", FunctionTransformer(lambda x: x.assign(bleed = x['bleed'].apply(lambda x: 1 if x==\"TRUE\" else 0)))),\n",
    "    (\"tf_elevation\", FunctionTransformer(lambda x: x.assign(elevation = x['elevation'].apply(lambda x: 1 if x==\"TRUE\" else 0)))),\n",
    "    (\"tf_biopsed\",FunctionTransformer(lambda x: x.assign(biopsed = x['biopsed'].apply(lambda val: 1 if val else 0)))),\n",
    "    (\"tf_sewage\", FunctionTransformer(lambda x: x.assign(has_sewage_system = x['has_sewage_system'].replace(\"Missing\", False).fillna(False).astype(int).apply(lambda val: 1 if val else 0)))),\n",
    "    (\"tf_skin_cancer_history\", FunctionTransformer(lambda x: x.assign(skin_cancer_history = x['skin_cancer_history'].replace(\"Missing\", False).fillna(False).astype(int).apply(lambda val: 1 if val else 0)))),\n",
    "    (\"tf_cancer_history\", FunctionTransformer(lambda x: x.assign(cancer_history = x['cancer_history'].replace(\"Missing\", False).fillna(False).astype(int).apply(lambda val: 1 if val else 0)))),\n",
    "    (\"tf_pipedwater\", FunctionTransformer(lambda x: x.assign(has_piped_water = x['has_piped_water'].replace(\"Missing\", False).fillna(False).astype(int).apply(lambda val: 1 if val else 0)))),\n",
    "    (\"tf_pesticide\", FunctionTransformer(lambda x: x.assign(pesticide = x['pesticide'].replace(\"Missing\", False).fillna(False).astype(int).apply(lambda val: 1 if val else 0)))),\n",
    "    (\"tf_smoke\", FunctionTransformer(lambda x: x.assign(smoke = x['smoke'].replace(\"Missing\", False).fillna(False).astype(int).apply(lambda val: 1 if val else 0)))),\n",
    "    (\"tf_drink\", FunctionTransformer(lambda x: x.assign(drink = x['drink'].replace(\"Missing\", False).fillna(False).astype(int).apply(lambda val: 1 if val else 0)))),\n",
    "    (\"imputar_numericas\",MeanMedianImputer( imputation_method = \"median\", variables= [\"fitspatrick\",\"diameter_1\",\"diameter_2\",\"age\"])),\n",
    "])\n",
    "\n",
    "x1 = df.drop(columns=[\"is_cancer\", \"diagnostic\"]) \n",
    "y1 = df[\"is_cancer\"]\n",
    "\n",
    "x1,x1_test,y1,y1_test = train_test_split(x1,y1, test_size=0.2, random_state=42)\n",
    "pipe.fit(x1,y1)\n",
    "x1 = pipe.transform(x1)\n",
    "x1_test = pipe.transform(x1_test)\n",
    "\n",
    "label_encoder = LabelEncoder()\n",
    "y1 = label_encoder.fit_transform(y1)\n",
    "y1_test= label_encoder.transform(y1_test)\n"
   ]
  },
  {
   "cell_type": "code",
   "execution_count": 231,
   "metadata": {},
   "outputs": [
    {
     "data": {
      "text/plain": [
       "0.9260869565217391"
      ]
     },
     "execution_count": 231,
     "metadata": {},
     "output_type": "execute_result"
    }
   ],
   "source": [
    "\n",
    "\n",
    "\n",
    "\n",
    "ratio = float(np.sum(y1 == 0)) / np.sum(y1 == 1)\n",
    "\n",
    "xgb = XGBClassifier()\n",
    "xgb.fit(x1,y1)\n",
    "y1_pred = xgb.predict(x1_test)\n",
    "\n",
    "xgb.score(x1_test,y1_test)\n",
    "\n"
   ]
  },
  {
   "cell_type": "code",
   "execution_count": null,
   "metadata": {},
   "outputs": [],
   "source": []
  }
 ],
 "metadata": {
  "kernelspec": {
   "display_name": "itba_apa_env",
   "language": "python",
   "name": "python3"
  },
  "language_info": {
   "codemirror_mode": {
    "name": "ipython",
    "version": 3
   },
   "file_extension": ".py",
   "mimetype": "text/x-python",
   "name": "python",
   "nbconvert_exporter": "python",
   "pygments_lexer": "ipython3",
   "version": "3.8.19"
  }
 },
 "nbformat": 4,
 "nbformat_minor": 2
}
