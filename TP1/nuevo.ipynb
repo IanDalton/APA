{
 "cells": [
  {
   "cell_type": "markdown",
   "metadata": {},
   "source": [
    "## Imports"
   ]
  },
  {
   "cell_type": "code",
   "execution_count": 51,
   "metadata": {},
   "outputs": [],
   "source": [
    "from sklearn.pipeline import Pipeline\n",
    "import pandas as pd\n",
    "import numpy as np\n",
    "from sklearn.model_selection import train_test_split\n",
    "\n",
    "from sklearn.base import BaseEstimator, TransformerMixin\n",
    "from imblearn.over_sampling import SMOTE\n",
    "from imblearn.pipeline import Pipeline as imbPipeline\n",
    "from skopt import BayesSearchCV\n",
    "\n",
    "\n",
    "from feature_engine.imputation import AddMissingIndicator, CategoricalImputer, MeanMedianImputer\n",
    "from feature_engine.encoding import OneHotEncoder,CountFrequencyEncoder,OrdinalEncoder\n",
    "from sklearn.preprocessing import FunctionTransformer,LabelEncoder,label_binarize\n",
    "\n",
    "from sklearn.metrics import (accuracy_score, roc_auc_score,explained_variance_score,mean_squared_error,r2_score,average_precision_score, classification_report, roc_curve, auc, confusion_matrix, \n",
    "                     precision_recall_fscore_support,make_scorer, f1_score,precision_score,recall_score, ConfusionMatrixDisplay)\n",
    "from sklearn.model_selection import GridSearchCV,KFold, cross_val_score\n",
    "from scikitplot.metrics import plot_roc, plot_confusion_matrix, plot_precision_recall,plot_roc_curve\n",
    "\n",
    "from sklearn.preprocessing import LabelEncoder\n",
    "from sklearn.linear_model import Lasso, LinearRegression, Ridge\n",
    "from sklearn.tree import DecisionTreeClassifier\n",
    "from sklearn.ensemble import RandomForestClassifier, AdaBoostClassifier, ExtraTreesClassifier, BaggingClassifier\n",
    "from sklearn.neighbors import KNeighborsClassifier\n",
    "from sklearn.svm import SVC\n",
    "from xgboost import XGBClassifier\n",
    "#from catboost import CatBoostClassifier\n",
    "#from lightgbm import LGBMClassifier\n",
    "\n",
    "import matplotlib.pyplot as plt\n",
    "import seaborn as sns"
   ]
  },
  {
   "cell_type": "code",
   "execution_count": 52,
   "metadata": {},
   "outputs": [],
   "source": [
    "df = pd.read_csv('data.csv')\n"
   ]
  },
  {
   "cell_type": "markdown",
   "metadata": {},
   "source": [
    "## Pipelines\n",
    "Se crean variables para unificar y entrenar el modelo a ver si es cancer o no."
   ]
  },
  {
   "cell_type": "code",
   "execution_count": 53,
   "metadata": {},
   "outputs": [],
   "source": [
    "df[\"is_cancer\"] = df[\"diagnostic\"].apply(lambda x: 1 if x in [\"BCC\",\"MEL\",\"SCC\"] else 0)"
   ]
  },
  {
   "cell_type": "code",
   "execution_count": 54,
   "metadata": {},
   "outputs": [
    {
     "data": {
      "text/plain": [
       "Index(['patient_id', 'lesion_id', 'smoke', 'drink', 'background_father',\n",
       "       'background_mother', 'age', 'pesticide', 'gender',\n",
       "       'skin_cancer_history', 'cancer_history', 'has_piped_water',\n",
       "       'has_sewage_system', 'fitspatrick', 'region', 'diameter_1',\n",
       "       'diameter_2', 'diagnostic', 'itch', 'grew', 'hurt', 'changed', 'bleed',\n",
       "       'elevation', 'img_id', 'biopsed', 'is_cancer'],\n",
       "      dtype='object')"
      ]
     },
     "execution_count": 54,
     "metadata": {},
     "output_type": "execute_result"
    }
   ],
   "source": [
    "df.columns"
   ]
  },
  {
   "cell_type": "code",
   "execution_count": 55,
   "metadata": {},
   "outputs": [],
   "source": [
    "# la persona estuvo aca antes? Tuvo en esta parte del cuerpo antes? Que tuvo antes? -> me parece que va a overfitear con eso\n",
    "\n",
    "\n",
    "x = df.drop(columns=[\"is_cancer\", \"diagnostic\"]) \n",
    "y1 = df[\"is_cancer\"]\n",
    "y2 = df[\"diagnostic\"]\n",
    "\n",
    "class HadBeforeTransformer(BaseEstimator, TransformerMixin):\n",
    "    def __init__(self) -> None:\n",
    "        super().__init__()\n",
    "\n",
    "    def fit(self, x:pd.DataFrame, y):\n",
    "        self.patient_counts = x[\"patient_id\"].value_counts()\n",
    "        #x[\"had_here_before\"] = x[\"patient_id\"].apply(lambda x: self.patient_counts[x] -1  )\n",
    "        return self\n",
    "    def transform(self, x:pd.DataFrame):\n",
    "        new_counts = x[\"patient_id\"].value_counts()\n",
    "        if new_counts.equals( self.patient_counts):\n",
    "            new_counts = {}\n",
    "\n",
    "        x[\"had_here_before\"] = x[\"patient_id\"].apply(lambda x: self.patient_counts.get(x,0)+ new_counts.get(x,0) -1   )\n",
    "        return x\n",
    "    \n",
    "class HadThisPartBeforeTransformer(BaseEstimator, TransformerMixin):\n",
    "    def __init__(self) -> None:\n",
    "        super().__init__()\n",
    "\n",
    "    def fit(self, x:pd.DataFrame, _):\n",
    "        self.patient_region_counts = x.groupby([\"patient_id\", \"region\"]).size().unstack(fill_value=0).T.to_dict('dict')\n",
    "        return self\n",
    "    def transform(self, x:pd.DataFrame):\n",
    "        new_counts = x.groupby([\"patient_id\", \"region\"]).size().unstack(fill_value=0).T.to_dict('dict')\n",
    "        if new_counts == self.patient_region_counts:\n",
    "            new_counts = {}\n",
    "        x[\"had_this_part_before\"] = x.apply(lambda row: 1 if  new_counts.get(row[\"patient_id\"],{}).get(row[\"region\"],0) + self.patient_region_counts.get(row[\"patient_id\"],{}).get(row[\"region\"],0)>=2 else 0, axis=1)\n",
    "        return x\n",
    "    \n",
    "\n",
    "\n",
    "class NormalDistributionImputer(BaseEstimator, TransformerMixin):\n",
    "    def __init__(self, variables=None):\n",
    "        if not isinstance(variables, list):\n",
    "            self.variables = [variables]\n",
    "        else:\n",
    "            self.variables = variables\n",
    "\n",
    "    def fit(self, X, y=None):\n",
    "        # we will store the mean and std of the variables for prediction time\n",
    "        self.param_dict_ = {}\n",
    "        for var in self.variables:\n",
    "            self.param_dict_[var] = {'mean': X[var].mean(), 'std': X[var].std()}\n",
    "        return self\n",
    "\n",
    "    def transform(self, X):\n",
    "        #TODO: Agregar seed para random\n",
    "        X = X.copy()\n",
    "        for feature in self.variables:\n",
    "            mu, std = self.param_dict_[feature]['mean'], self.param_dict_[feature]['std']\n",
    "            X[feature] = X[feature].apply(lambda x: np.random.normal(loc=mu, scale=std) if pd.isnull(x) else x)\n",
    "        return X\n",
    "\n",
    "class ClassifierTransformer(BaseEstimator, TransformerMixin):\n",
    "    def __init__(self, classifier_class, new_column_name,\n",
    "                  target_column=False, eta=0.3,max_depth=6 ,\n",
    "                   scale_pos_weight=1,min_child_weight=1,gamma =0,\n",
    "                   subsample=1,colsample_bytree=1,n_estimators=100):\n",
    "        self.classifier_class = classifier_class\n",
    "        self.eta = eta\n",
    "        self.max_depth = max_depth\n",
    "        self.scale_pos_weight = scale_pos_weight\n",
    "        self.min_child_weight = min_child_weight\n",
    "        self.subsample = subsample\n",
    "        self.colsample_bytree = colsample_bytree\n",
    "        self.n_estimators = n_estimators\n",
    "        self.gamma = gamma\n",
    "        self.classifier_kwargs = {\"eta\":eta, \"max_depth\":max_depth,\"scale_pos_weight\":scale_pos_weight}\n",
    "        self.new_column_name = new_column_name\n",
    "        self.target_column = target_column\n",
    "\n",
    "        self.label_encoder = LabelEncoder()\n",
    "\n",
    "    def fit(self, x, y):\n",
    "        self.classifier = self.classifier_class(eta=self.eta, max_depth=self.max_depth,\n",
    "        scale_pos_weight=self.scale_pos_weight,min_child_weight = self.min_child_weight,\n",
    "        gamma = self.gamma,subsample=self.subsample,colsample_bytree=self.colsample_bytree,n_estimators=self.n_estimators )\n",
    "\n",
    "        if self.target_column:\n",
    "            y = y.apply(lambda x: 1 if x in [\"BCC\",\"MEL\",\"SCC\"] else 0)\n",
    "        else:\n",
    "            y = self.label_encoder.fit_transform(y)\n",
    "\n",
    "        # Ensure x and y have the same length\n",
    "        if len(x) != len(y):\n",
    "            raise ValueError(f'Length of x ({len(x)}) does not match length of y ({len(y)})')\n",
    "\n",
    "        self.classifier.fit(x, y)\n",
    "        return self\n",
    "\n",
    "    def transform(self, x):\n",
    "        if not hasattr(self, 'classifier'):\n",
    "            raise RuntimeError('You must call fit before calling transform')\n",
    "\n",
    "        x_copy = x.copy()\n",
    "        x_copy[self.new_column_name] = self.classifier.predict(x)\n",
    "        return x_copy\n",
    "\n",
    "    def predict(self, x):\n",
    "        return self.label_encoder.inverse_transform(self.classifier.predict(x))\n",
    "    \n",
    "    \n",
    "\n",
    "preguntas = Pipeline([\n",
    "    ( \"had_here_before\", HadBeforeTransformer()),\n",
    "    ( \"had_this_part_before\", HadThisPartBeforeTransformer()),\n",
    "\n",
    "])\n",
    "\n",
    "limpieza = imbPipeline([\n",
    "    (\"dropear\", FunctionTransformer(lambda x: x.drop([\"img_id\",\"lesion_id\", \"patient_id\"], axis=1,))),\n",
    "                     (\"frequency\", CountFrequencyEncoder(encoding_method='frequency',variables=[\"region\"])),\n",
    "                     (\"missingIndicator\",  AddMissingIndicator(variables=[\"smoke\",\"drink\",\"background_father\",\n",
    "                                                           \"background_mother\",\"pesticide\",\"gender\",\"skin_cancer_history\",\n",
    "                                                            \"cancer_history\", \"has_piped_water\",\"has_sewage_system\",\n",
    "                                                            \"itch\",\"grew\",\"hurt\",\"changed\",\"bleed\",\"elevation\",\"fitspatrick\",\"diameter_1\",\"diameter_2\",\"age\"])),\n",
    "                     (\"fillNaNs\", CategoricalImputer(imputation_method=\"missing\", variables=[\"smoke\",\"drink\",\"background_father\",\n",
    "                                                           \"background_mother\",\"pesticide\",\"gender\",\"skin_cancer_history\",\n",
    "                                                            \"cancer_history\", \"has_piped_water\",\"has_sewage_system\",\n",
    "                                                            \"itch\",\"grew\",\"hurt\",\"changed\",\"bleed\",\"elevation\"])),\n",
    "                     (\"ordinal\", OrdinalEncoder(encoding_method=\"arbitrary\", variables=[\"smoke\",\"drink\",\"background_father\",\n",
    "                                                           \"background_mother\",\"pesticide\",\"gender\",\"skin_cancer_history\",\n",
    "                                                            \"cancer_history\", \"has_piped_water\",\"has_sewage_system\",\n",
    "                                                            \"itch\",\"grew\",\"hurt\",\"changed\",\"bleed\",\"elevation\"]))\n",
    "                    ])\n",
    "imputing = imbPipeline([(\"imputar_numericas\",NormalDistributionImputer(  variables= [\"fitspatrick\",\"diameter_1\",\"diameter_2\",\"age\"]))])\n",
    "\n",
    "\n",
    "\n",
    "\"\"\" pipe = imbPipeline([(\"preguntas\",preguntas),\n",
    "                  (\"limpieza\",limpieza),\n",
    "                    (\"imputing\",imputing),\n",
    "                    (\"clf\",ClassifierTransformer(XGBClassifier(scale_pos_weight=float(np.sum(y1 == 0))*100 / np.sum(y1 == 1)), \"is_cancer\", target_column=True)),\n",
    "                    (\"smote\",SMOTE()),\n",
    "                   (\"clf2\",ClassifierTransformer(XGBClassifier(), \"diagnostic\"))])\n",
    " \"\"\"\n",
    "\n",
    "\n",
    "pipe = imbPipeline([\n",
    "    ( \"had_here_before\", HadBeforeTransformer()),\n",
    "    ( \"had_this_part_before\", HadThisPartBeforeTransformer()),\n",
    "    (\"dropear\", FunctionTransformer(lambda x: x.drop([\"img_id\",\"lesion_id\", \"patient_id\"], axis=1,))),\n",
    "    (\"frequency\", CountFrequencyEncoder(encoding_method='frequency',variables=[\"region\"])),\n",
    "    (\"missingIndicator\",  AddMissingIndicator(variables=[\"smoke\",\"drink\",\"background_father\",\n",
    "                                        \"background_mother\",\"pesticide\",\"gender\",\"skin_cancer_history\",\n",
    "                                            \"cancer_history\", \"has_piped_water\",\"has_sewage_system\",\n",
    "                                            \"itch\",\"grew\",\"hurt\",\"changed\",\"bleed\",\"elevation\",\"fitspatrick\",\"diameter_1\",\"diameter_2\",\"age\"])),\n",
    "    (\"fillNaNs\", CategoricalImputer(imputation_method=\"missing\", variables=[\"smoke\",\"drink\",\"background_father\",\n",
    "                                        \"background_mother\",\"pesticide\",\"gender\",\"skin_cancer_history\",\n",
    "                                            \"cancer_history\", \"has_piped_water\",\"has_sewage_system\",\n",
    "                                            \"itch\",\"grew\",\"hurt\",\"changed\",\"bleed\",\"elevation\"])),\n",
    "    (\"ordinal\", OrdinalEncoder(encoding_method=\"arbitrary\", variables=[\"smoke\",\"drink\",\"background_father\",\n",
    "                                        \"background_mother\",\"pesticide\",\"gender\",\"skin_cancer_history\",\n",
    "                                            \"cancer_history\", \"has_piped_water\",\"has_sewage_system\",\n",
    "                                            \"itch\",\"grew\",\"hurt\",\"changed\",\"bleed\",\"elevation\"])),\n",
    "    (\"imputar_numericas\",NormalDistributionImputer(  variables= [\"fitspatrick\",\"diameter_1\",\"diameter_2\",\"age\"])),\n",
    "    (\"clf\",ClassifierTransformer(XGBClassifier, \"is_cancer\", target_column=True, scale_pos_weight=float(np.sum(y1 == 0))*100 / np.sum(y1 == 1))),\n",
    "    (\"smote\",SMOTE()),\n",
    "    (\"clf2\",ClassifierTransformer(XGBClassifier, \"diagnostic\",target_column=False))\n",
    "\n",
    "])"
   ]
  },
  {
   "cell_type": "code",
   "execution_count": 56,
   "metadata": {},
   "outputs": [],
   "source": [
    "x1,x1_test,y1,y1_test = train_test_split(x,y2, test_size=0.2, random_state=42)\n",
    "\n"
   ]
  },
  {
   "cell_type": "code",
   "execution_count": 57,
   "metadata": {},
   "outputs": [
    {
     "name": "stdout",
     "output_type": "stream",
     "text": [
      "[15:00:47] WARNING: C:\\buildkite-agent\\builds\\buildkite-windows-cpu-autoscaling-group-i-0fdc6d574b9c0d168-1\\xgboost\\xgboost-ci-windows\\src\\learner.cc:767: \n",
      "Parameters: { \"scale_pos_weight\" } are not used.\n",
      "\n"
     ]
    },
    {
     "data": {
      "text/html": [
       "<style>#sk-container-id-2 {color: black;}#sk-container-id-2 pre{padding: 0;}#sk-container-id-2 div.sk-toggleable {background-color: white;}#sk-container-id-2 label.sk-toggleable__label {cursor: pointer;display: block;width: 100%;margin-bottom: 0;padding: 0.3em;box-sizing: border-box;text-align: center;}#sk-container-id-2 label.sk-toggleable__label-arrow:before {content: \"▸\";float: left;margin-right: 0.25em;color: #696969;}#sk-container-id-2 label.sk-toggleable__label-arrow:hover:before {color: black;}#sk-container-id-2 div.sk-estimator:hover label.sk-toggleable__label-arrow:before {color: black;}#sk-container-id-2 div.sk-toggleable__content {max-height: 0;max-width: 0;overflow: hidden;text-align: left;background-color: #f0f8ff;}#sk-container-id-2 div.sk-toggleable__content pre {margin: 0.2em;color: black;border-radius: 0.25em;background-color: #f0f8ff;}#sk-container-id-2 input.sk-toggleable__control:checked~div.sk-toggleable__content {max-height: 200px;max-width: 100%;overflow: auto;}#sk-container-id-2 input.sk-toggleable__control:checked~label.sk-toggleable__label-arrow:before {content: \"▾\";}#sk-container-id-2 div.sk-estimator input.sk-toggleable__control:checked~label.sk-toggleable__label {background-color: #d4ebff;}#sk-container-id-2 div.sk-label input.sk-toggleable__control:checked~label.sk-toggleable__label {background-color: #d4ebff;}#sk-container-id-2 input.sk-hidden--visually {border: 0;clip: rect(1px 1px 1px 1px);clip: rect(1px, 1px, 1px, 1px);height: 1px;margin: -1px;overflow: hidden;padding: 0;position: absolute;width: 1px;}#sk-container-id-2 div.sk-estimator {font-family: monospace;background-color: #f0f8ff;border: 1px dotted black;border-radius: 0.25em;box-sizing: border-box;margin-bottom: 0.5em;}#sk-container-id-2 div.sk-estimator:hover {background-color: #d4ebff;}#sk-container-id-2 div.sk-parallel-item::after {content: \"\";width: 100%;border-bottom: 1px solid gray;flex-grow: 1;}#sk-container-id-2 div.sk-label:hover label.sk-toggleable__label {background-color: #d4ebff;}#sk-container-id-2 div.sk-serial::before {content: \"\";position: absolute;border-left: 1px solid gray;box-sizing: border-box;top: 0;bottom: 0;left: 50%;z-index: 0;}#sk-container-id-2 div.sk-serial {display: flex;flex-direction: column;align-items: center;background-color: white;padding-right: 0.2em;padding-left: 0.2em;position: relative;}#sk-container-id-2 div.sk-item {position: relative;z-index: 1;}#sk-container-id-2 div.sk-parallel {display: flex;align-items: stretch;justify-content: center;background-color: white;position: relative;}#sk-container-id-2 div.sk-item::before, #sk-container-id-2 div.sk-parallel-item::before {content: \"\";position: absolute;border-left: 1px solid gray;box-sizing: border-box;top: 0;bottom: 0;left: 50%;z-index: -1;}#sk-container-id-2 div.sk-parallel-item {display: flex;flex-direction: column;z-index: 1;position: relative;background-color: white;}#sk-container-id-2 div.sk-parallel-item:first-child::after {align-self: flex-end;width: 50%;}#sk-container-id-2 div.sk-parallel-item:last-child::after {align-self: flex-start;width: 50%;}#sk-container-id-2 div.sk-parallel-item:only-child::after {width: 0;}#sk-container-id-2 div.sk-dashed-wrapped {border: 1px dashed gray;margin: 0 0.4em 0.5em 0.4em;box-sizing: border-box;padding-bottom: 0.4em;background-color: white;}#sk-container-id-2 div.sk-label label {font-family: monospace;font-weight: bold;display: inline-block;line-height: 1.2em;}#sk-container-id-2 div.sk-label-container {text-align: center;}#sk-container-id-2 div.sk-container {/* jupyter's `normalize.less` sets `[hidden] { display: none; }` but bootstrap.min.css set `[hidden] { display: none !important; }` so we also need the `!important` here to be able to override the default hidden behavior on the sphinx rendered scikit-learn.org. See: https://github.com/scikit-learn/scikit-learn/issues/21755 */display: inline-block !important;position: relative;}#sk-container-id-2 div.sk-text-repr-fallback {display: none;}</style><div id=\"sk-container-id-2\" class=\"sk-top-container\"><div class=\"sk-text-repr-fallback\"><pre>Pipeline(steps=[(&#x27;had_here_before&#x27;, HadBeforeTransformer()),\n",
       "                (&#x27;had_this_part_before&#x27;, HadThisPartBeforeTransformer()),\n",
       "                (&#x27;dropear&#x27;,\n",
       "                 FunctionTransformer(func=&lt;function &lt;lambda&gt; at 0x00000275C32FDEE0&gt;)),\n",
       "                (&#x27;frequency&#x27;,\n",
       "                 CountFrequencyEncoder(encoding_method=&#x27;frequency&#x27;,\n",
       "                                       variables=[&#x27;region&#x27;])),\n",
       "                (&#x27;missingIndicator&#x27;,\n",
       "                 AddMissingIndicator(variables=[&#x27;smoke&#x27;, &#x27;drink&#x27;,\n",
       "                                                &#x27;back...\n",
       "                 NormalDistributionImputer(variables=[&#x27;fitspatrick&#x27;,\n",
       "                                                      &#x27;diameter_1&#x27;,\n",
       "                                                      &#x27;diameter_2&#x27;, &#x27;age&#x27;])),\n",
       "                (&#x27;clf&#x27;,\n",
       "                 ClassifierTransformer(classifier_class=&lt;class &#x27;xgboost.sklearn.XGBClassifier&#x27;&gt;,\n",
       "                                       new_column_name=&#x27;is_cancer&#x27;,\n",
       "                                       scale_pos_weight=111.01928374655647,\n",
       "                                       target_column=True)),\n",
       "                (&#x27;smote&#x27;, SMOTE()),\n",
       "                (&#x27;clf2&#x27;,\n",
       "                 ClassifierTransformer(classifier_class=&lt;class &#x27;xgboost.sklearn.XGBClassifier&#x27;&gt;,\n",
       "                                       new_column_name=&#x27;diagnostic&#x27;))])</pre><b>In a Jupyter environment, please rerun this cell to show the HTML representation or trust the notebook. <br />On GitHub, the HTML representation is unable to render, please try loading this page with nbviewer.org.</b></div><div class=\"sk-container\" hidden><div class=\"sk-item sk-dashed-wrapped\"><div class=\"sk-label-container\"><div class=\"sk-label sk-toggleable\"><input class=\"sk-toggleable__control sk-hidden--visually\" id=\"sk-estimator-id-13\" type=\"checkbox\" ><label for=\"sk-estimator-id-13\" class=\"sk-toggleable__label sk-toggleable__label-arrow\">Pipeline</label><div class=\"sk-toggleable__content\"><pre>Pipeline(steps=[(&#x27;had_here_before&#x27;, HadBeforeTransformer()),\n",
       "                (&#x27;had_this_part_before&#x27;, HadThisPartBeforeTransformer()),\n",
       "                (&#x27;dropear&#x27;,\n",
       "                 FunctionTransformer(func=&lt;function &lt;lambda&gt; at 0x00000275C32FDEE0&gt;)),\n",
       "                (&#x27;frequency&#x27;,\n",
       "                 CountFrequencyEncoder(encoding_method=&#x27;frequency&#x27;,\n",
       "                                       variables=[&#x27;region&#x27;])),\n",
       "                (&#x27;missingIndicator&#x27;,\n",
       "                 AddMissingIndicator(variables=[&#x27;smoke&#x27;, &#x27;drink&#x27;,\n",
       "                                                &#x27;back...\n",
       "                 NormalDistributionImputer(variables=[&#x27;fitspatrick&#x27;,\n",
       "                                                      &#x27;diameter_1&#x27;,\n",
       "                                                      &#x27;diameter_2&#x27;, &#x27;age&#x27;])),\n",
       "                (&#x27;clf&#x27;,\n",
       "                 ClassifierTransformer(classifier_class=&lt;class &#x27;xgboost.sklearn.XGBClassifier&#x27;&gt;,\n",
       "                                       new_column_name=&#x27;is_cancer&#x27;,\n",
       "                                       scale_pos_weight=111.01928374655647,\n",
       "                                       target_column=True)),\n",
       "                (&#x27;smote&#x27;, SMOTE()),\n",
       "                (&#x27;clf2&#x27;,\n",
       "                 ClassifierTransformer(classifier_class=&lt;class &#x27;xgboost.sklearn.XGBClassifier&#x27;&gt;,\n",
       "                                       new_column_name=&#x27;diagnostic&#x27;))])</pre></div></div></div><div class=\"sk-serial\"><div class=\"sk-item\"><div class=\"sk-estimator sk-toggleable\"><input class=\"sk-toggleable__control sk-hidden--visually\" id=\"sk-estimator-id-14\" type=\"checkbox\" ><label for=\"sk-estimator-id-14\" class=\"sk-toggleable__label sk-toggleable__label-arrow\">HadBeforeTransformer</label><div class=\"sk-toggleable__content\"><pre>HadBeforeTransformer()</pre></div></div></div><div class=\"sk-item\"><div class=\"sk-estimator sk-toggleable\"><input class=\"sk-toggleable__control sk-hidden--visually\" id=\"sk-estimator-id-15\" type=\"checkbox\" ><label for=\"sk-estimator-id-15\" class=\"sk-toggleable__label sk-toggleable__label-arrow\">HadThisPartBeforeTransformer</label><div class=\"sk-toggleable__content\"><pre>HadThisPartBeforeTransformer()</pre></div></div></div><div class=\"sk-item\"><div class=\"sk-estimator sk-toggleable\"><input class=\"sk-toggleable__control sk-hidden--visually\" id=\"sk-estimator-id-16\" type=\"checkbox\" ><label for=\"sk-estimator-id-16\" class=\"sk-toggleable__label sk-toggleable__label-arrow\">FunctionTransformer</label><div class=\"sk-toggleable__content\"><pre>FunctionTransformer(func=&lt;function &lt;lambda&gt; at 0x00000275C32FDEE0&gt;)</pre></div></div></div><div class=\"sk-item\"><div class=\"sk-estimator sk-toggleable\"><input class=\"sk-toggleable__control sk-hidden--visually\" id=\"sk-estimator-id-17\" type=\"checkbox\" ><label for=\"sk-estimator-id-17\" class=\"sk-toggleable__label sk-toggleable__label-arrow\">CountFrequencyEncoder</label><div class=\"sk-toggleable__content\"><pre>CountFrequencyEncoder(encoding_method=&#x27;frequency&#x27;, variables=[&#x27;region&#x27;])</pre></div></div></div><div class=\"sk-item\"><div class=\"sk-estimator sk-toggleable\"><input class=\"sk-toggleable__control sk-hidden--visually\" id=\"sk-estimator-id-18\" type=\"checkbox\" ><label for=\"sk-estimator-id-18\" class=\"sk-toggleable__label sk-toggleable__label-arrow\">AddMissingIndicator</label><div class=\"sk-toggleable__content\"><pre>AddMissingIndicator(variables=[&#x27;smoke&#x27;, &#x27;drink&#x27;, &#x27;background_father&#x27;,\n",
       "                               &#x27;background_mother&#x27;, &#x27;pesticide&#x27;, &#x27;gender&#x27;,\n",
       "                               &#x27;skin_cancer_history&#x27;, &#x27;cancer_history&#x27;,\n",
       "                               &#x27;has_piped_water&#x27;, &#x27;has_sewage_system&#x27;, &#x27;itch&#x27;,\n",
       "                               &#x27;grew&#x27;, &#x27;hurt&#x27;, &#x27;changed&#x27;, &#x27;bleed&#x27;, &#x27;elevation&#x27;,\n",
       "                               &#x27;fitspatrick&#x27;, &#x27;diameter_1&#x27;, &#x27;diameter_2&#x27;,\n",
       "                               &#x27;age&#x27;])</pre></div></div></div><div class=\"sk-item\"><div class=\"sk-estimator sk-toggleable\"><input class=\"sk-toggleable__control sk-hidden--visually\" id=\"sk-estimator-id-19\" type=\"checkbox\" ><label for=\"sk-estimator-id-19\" class=\"sk-toggleable__label sk-toggleable__label-arrow\">CategoricalImputer</label><div class=\"sk-toggleable__content\"><pre>CategoricalImputer(variables=[&#x27;smoke&#x27;, &#x27;drink&#x27;, &#x27;background_father&#x27;,\n",
       "                              &#x27;background_mother&#x27;, &#x27;pesticide&#x27;, &#x27;gender&#x27;,\n",
       "                              &#x27;skin_cancer_history&#x27;, &#x27;cancer_history&#x27;,\n",
       "                              &#x27;has_piped_water&#x27;, &#x27;has_sewage_system&#x27;, &#x27;itch&#x27;,\n",
       "                              &#x27;grew&#x27;, &#x27;hurt&#x27;, &#x27;changed&#x27;, &#x27;bleed&#x27;, &#x27;elevation&#x27;])</pre></div></div></div><div class=\"sk-item\"><div class=\"sk-estimator sk-toggleable\"><input class=\"sk-toggleable__control sk-hidden--visually\" id=\"sk-estimator-id-20\" type=\"checkbox\" ><label for=\"sk-estimator-id-20\" class=\"sk-toggleable__label sk-toggleable__label-arrow\">OrdinalEncoder</label><div class=\"sk-toggleable__content\"><pre>OrdinalEncoder(encoding_method=&#x27;arbitrary&#x27;,\n",
       "               variables=[&#x27;smoke&#x27;, &#x27;drink&#x27;, &#x27;background_father&#x27;,\n",
       "                          &#x27;background_mother&#x27;, &#x27;pesticide&#x27;, &#x27;gender&#x27;,\n",
       "                          &#x27;skin_cancer_history&#x27;, &#x27;cancer_history&#x27;,\n",
       "                          &#x27;has_piped_water&#x27;, &#x27;has_sewage_system&#x27;, &#x27;itch&#x27;,\n",
       "                          &#x27;grew&#x27;, &#x27;hurt&#x27;, &#x27;changed&#x27;, &#x27;bleed&#x27;, &#x27;elevation&#x27;])</pre></div></div></div><div class=\"sk-item\"><div class=\"sk-estimator sk-toggleable\"><input class=\"sk-toggleable__control sk-hidden--visually\" id=\"sk-estimator-id-21\" type=\"checkbox\" ><label for=\"sk-estimator-id-21\" class=\"sk-toggleable__label sk-toggleable__label-arrow\">NormalDistributionImputer</label><div class=\"sk-toggleable__content\"><pre>NormalDistributionImputer(variables=[&#x27;fitspatrick&#x27;, &#x27;diameter_1&#x27;, &#x27;diameter_2&#x27;,\n",
       "                                     &#x27;age&#x27;])</pre></div></div></div><div class=\"sk-item\"><div class=\"sk-estimator sk-toggleable\"><input class=\"sk-toggleable__control sk-hidden--visually\" id=\"sk-estimator-id-22\" type=\"checkbox\" ><label for=\"sk-estimator-id-22\" class=\"sk-toggleable__label sk-toggleable__label-arrow\">ClassifierTransformer</label><div class=\"sk-toggleable__content\"><pre>ClassifierTransformer(classifier_class=&lt;class &#x27;xgboost.sklearn.XGBClassifier&#x27;&gt;,\n",
       "                      new_column_name=&#x27;is_cancer&#x27;,\n",
       "                      scale_pos_weight=111.01928374655647, target_column=True)</pre></div></div></div><div class=\"sk-item\"><div class=\"sk-estimator sk-toggleable\"><input class=\"sk-toggleable__control sk-hidden--visually\" id=\"sk-estimator-id-23\" type=\"checkbox\" ><label for=\"sk-estimator-id-23\" class=\"sk-toggleable__label sk-toggleable__label-arrow\">SMOTE</label><div class=\"sk-toggleable__content\"><pre>SMOTE()</pre></div></div></div><div class=\"sk-item\"><div class=\"sk-estimator sk-toggleable\"><input class=\"sk-toggleable__control sk-hidden--visually\" id=\"sk-estimator-id-24\" type=\"checkbox\" ><label for=\"sk-estimator-id-24\" class=\"sk-toggleable__label sk-toggleable__label-arrow\">ClassifierTransformer</label><div class=\"sk-toggleable__content\"><pre>ClassifierTransformer(classifier_class=&lt;class &#x27;xgboost.sklearn.XGBClassifier&#x27;&gt;,\n",
       "                      new_column_name=&#x27;diagnostic&#x27;)</pre></div></div></div></div></div></div></div>"
      ],
      "text/plain": [
       "Pipeline(steps=[('had_here_before', HadBeforeTransformer()),\n",
       "                ('had_this_part_before', HadThisPartBeforeTransformer()),\n",
       "                ('dropear',\n",
       "                 FunctionTransformer(func=<function <lambda> at 0x00000275C32FDEE0>)),\n",
       "                ('frequency',\n",
       "                 CountFrequencyEncoder(encoding_method='frequency',\n",
       "                                       variables=['region'])),\n",
       "                ('missingIndicator',\n",
       "                 AddMissingIndicator(variables=['smoke', 'drink',\n",
       "                                                'back...\n",
       "                 NormalDistributionImputer(variables=['fitspatrick',\n",
       "                                                      'diameter_1',\n",
       "                                                      'diameter_2', 'age'])),\n",
       "                ('clf',\n",
       "                 ClassifierTransformer(classifier_class=<class 'xgboost.sklearn.XGBClassifier'>,\n",
       "                                       new_column_name='is_cancer',\n",
       "                                       scale_pos_weight=111.01928374655647,\n",
       "                                       target_column=True)),\n",
       "                ('smote', SMOTE()),\n",
       "                ('clf2',\n",
       "                 ClassifierTransformer(classifier_class=<class 'xgboost.sklearn.XGBClassifier'>,\n",
       "                                       new_column_name='diagnostic'))])"
      ]
     },
     "execution_count": 57,
     "metadata": {},
     "output_type": "execute_result"
    }
   ],
   "source": [
    "pipe.fit(x1,y1)\n",
    "\n",
    "\n"
   ]
  },
  {
   "cell_type": "code",
   "execution_count": 61,
   "metadata": {},
   "outputs": [
    {
     "name": "stdout",
     "output_type": "stream",
     "text": [
      "[15:28:17] WARNING: C:\\buildkite-agent\\builds\\buildkite-windows-cpu-autoscaling-group-i-0fdc6d574b9c0d168-1\\xgboost\\xgboost-ci-windows\\src\\learner.cc:767: \n",
      "Parameters: { \"scale_pos_weight\" } are not used.\n",
      "\n",
      "Best parameters found:  OrderedDict([('clf2__colsample_bytree', 1), ('clf2__eta', 0.3), ('clf2__gamma', 0), ('clf2__max_depth', 13), ('clf2__min_child_weight', 0), ('clf2__n_estimators', 1000), ('clf2__subsample', 1), ('clf__colsample_bytree', 1), ('clf__eta', 0.01), ('clf__gamma', 0), ('clf__max_depth', 10), ('clf__min_child_weight', 2), ('clf__n_estimators', 361), ('clf__subsample', 1)])\n",
      "Best score found:  0.7965406942305415\n"
     ]
    }
   ],
   "source": [
    "param_space = {\n",
    "    'clf__eta': (0.01, 0.3, 'uniform'),\n",
    "    'clf__max_depth': (1, 10, 'uniform'),\n",
    "    'clf__min_child_weight': (0,2,\"uniform\"),\n",
    "    'clf__gamma': (0,2,\"uniform\"),\n",
    "    \"clf__subsample\": (0.5,1,\"uniform\"),\n",
    "    \"clf__colsample_bytree\": (0.5,1,\"uniform\"),\n",
    "    \"clf__n_estimators\": (10,1000,\"uniform\"),\n",
    "\n",
    "\n",
    "    'clf2__eta': (0.001, 0.3, 'uniform'),\n",
    "    'clf2__max_depth': (1, 18, 'uniform'),\n",
    "    'clf2__min_child_weight': (0,2,\"uniform\"),\n",
    "    'clf2__gamma': (0,10,\"uniform\"),\n",
    "    \"clf2__subsample\": (0.5,1,\"uniform\"),\n",
    "    \"clf2__colsample_bytree\": (0.5,1,\"uniform\"),\n",
    "    \"clf2__n_estimators\": (10,1000,\"uniform\"),\n",
    "\n",
    "}\n",
    "# Create a BayesSearchCV object\n",
    "opt = BayesSearchCV(\n",
    "    pipe,\n",
    "    param_space,\n",
    "    n_iter=64,\n",
    "    cv=5, \n",
    "    n_jobs=-1,  # use all available cores\n",
    "    scoring='accuracy'\n",
    ")\n",
    "\n",
    "# Fit the BayesSearchCV object to the data\n",
    "opt.fit(x1,y1)\n",
    "\n",
    "# Print the best parameters and score\n",
    "print(\"Best parameters found: \", opt.best_params_)\n",
    "print(\"Best score found: \", opt.best_score_)\n"
   ]
  },
  {
   "cell_type": "code",
   "execution_count": 63,
   "metadata": {},
   "outputs": [
    {
     "name": "stderr",
     "output_type": "stream",
     "text": [
      "c:\\Users\\ianda\\anaconda3\\envs\\itba_apa_env\\lib\\site-packages\\feature_engine\\encoding\\base_encoder.py:257: UserWarning: During the encoding, NaN values were introduced in the feature(s) background_mother.\n",
      "  warnings.warn(\n"
     ]
    }
   ],
   "source": [
    "y1_pred = opt.predict(x1_test)"
   ]
  },
  {
   "cell_type": "code",
   "execution_count": 64,
   "metadata": {},
   "outputs": [
    {
     "data": {
      "text/plain": [
       "0.8021739130434783"
      ]
     },
     "execution_count": 64,
     "metadata": {},
     "output_type": "execute_result"
    }
   ],
   "source": [
    "#y1_pred = pipe.predict(x1_test)\n",
    "encoder = LabelEncoder()\n",
    "encoder.fit(y1_test)\n",
    "accuracy_score(encoder.transform(y1_test), encoder.transform(y1_pred))"
   ]
  },
  {
   "cell_type": "markdown",
   "metadata": {},
   "source": [
    "## Modelos"
   ]
  },
  {
   "cell_type": "code",
   "execution_count": 65,
   "metadata": {},
   "outputs": [
    {
     "data": {
      "text/plain": [
       "<Axes: title={'center': 'Confusion Matrix'}, xlabel='Predicted label', ylabel='True label'>"
      ]
     },
     "execution_count": 65,
     "metadata": {},
     "output_type": "execute_result"
    },
    {
     "data": {
      "image/png": "[encoded data removed]",
      "text/plain": [
       "<Figure size 640x480 with 2 Axes>"
      ]
     },
     "metadata": {},
     "output_type": "display_data"
    }
   ],
   "source": [
    "#Confusion matrix\n",
    "class_order = ['BCC','MEL','SCC','ACK','NEV','SEK']\n",
    "plot_confusion_matrix(y1_test, y1_pred, normalize=False,labels=class_order)"
   ]
  },
  {
   "cell_type": "code",
   "execution_count": null,
   "metadata": {},
   "outputs": [],
   "source": [
    "\n",
    "\n",
    "\n",
    "\n",
    "ratio = float(np.sum(y1 == 0)) / np.sum(y1 == 1)\n",
    "\n",
    "xgb = XGBClassifier()\n",
    "xgb.fit(x1,y1)\n",
    "y1_pred = xgb.predict(x1_test)\n",
    "\n",
    "xgb.score(x1_test,y1_test)\n",
    "\n"
   ]
  },
  {
   "cell_type": "code",
   "execution_count": null,
   "metadata": {},
   "outputs": [],
   "source": []
  }
 ],
 "metadata": {
  "kernelspec": {
   "display_name": "itba_apa_env",
   "language": "python",
   "name": "python3"
  },
  "language_info": {
   "codemirror_mode": {
    "name": "ipython",
    "version": 3
   },
   "file_extension": ".py",
   "mimetype": "text/x-python",
   "name": "python",
   "nbconvert_exporter": "python",
   "pygments_lexer": "ipython3",
   "version": "3.8.19"
  }
 },
 "nbformat": 4,
 "nbformat_minor": 2
}
